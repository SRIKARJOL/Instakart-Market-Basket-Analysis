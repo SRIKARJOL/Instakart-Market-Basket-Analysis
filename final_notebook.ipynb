{
 "cells": [
  {
   "cell_type": "code",
   "execution_count": null,
   "metadata": {
    "id": "PxG3Xt3zQGrg"
   },
   "outputs": [],
   "source": [
    "import warnings\n",
    "warnings.filterwarnings(\"ignore\")\n",
    "import joblib\n",
    "import gc\n",
    "import numpy as np\n",
    "import pandas as pd\n",
    "import _pickle as cpickle\n",
    "import pickle\n",
    "from datetime import datetime\n",
    "import time\n",
    "from catboost import CatBoostClassifier\n",
    "from sklearn.metrics import f1_score"
   ]
  },
  {
   "cell_type": "code",
   "execution_count": null,
   "metadata": {
    "colab": {
     "base_uri": "https://localhost:8080/"
    },
    "id": "XGZHTa5jRqwd",
    "outputId": "ca446dd6-612c-4108-8b5c-ef4314c3e6cb"
   },
   "outputs": [
    {
     "name": "stdout",
     "output_type": "stream",
     "text": [
      "Collecting pickle5\n",
      "\u001b[?25l  Downloading https://files.pythonhosted.org/packages/f7/4c/5c4dd0462c8d3a6bc4af500a6af240763c2ebd1efdc736fc2c946d44b70a/pickle5-0.0.11.tar.gz (132kB)\n",
      "\r",
      "\u001b[K     |██▌                             | 10kB 16.9MB/s eta 0:00:01\r",
      "\u001b[K     |█████                           | 20kB 22.1MB/s eta 0:00:01\r",
      "\u001b[K     |███████▍                        | 30kB 11.2MB/s eta 0:00:01\r",
      "\u001b[K     |██████████                      | 40kB 8.6MB/s eta 0:00:01\r",
      "\u001b[K     |████████████▍                   | 51kB 4.4MB/s eta 0:00:01\r",
      "\u001b[K     |██████████████▉                 | 61kB 5.0MB/s eta 0:00:01\r",
      "\u001b[K     |█████████████████▍              | 71kB 5.0MB/s eta 0:00:01\r",
      "\u001b[K     |███████████████████▉            | 81kB 5.4MB/s eta 0:00:01\r",
      "\u001b[K     |██████████████████████▎         | 92kB 5.7MB/s eta 0:00:01\r",
      "\u001b[K     |████████████████████████▉       | 102kB 4.3MB/s eta 0:00:01\r",
      "\u001b[K     |███████████████████████████▎    | 112kB 4.3MB/s eta 0:00:01\r",
      "\u001b[K     |█████████████████████████████▊  | 122kB 4.3MB/s eta 0:00:01\r",
      "\u001b[K     |████████████████████████████████| 133kB 4.3MB/s \n",
      "\u001b[?25hBuilding wheels for collected packages: pickle5\n",
      "  Building wheel for pickle5 (setup.py) ... \u001b[?25l\u001b[?25hdone\n",
      "  Created wheel for pickle5: filename=pickle5-0.0.11-cp37-cp37m-linux_x86_64.whl size=219248 sha256=d6b862f23202c89dc31b85653cd4475c420914d952c168a5fd4dd81e43b17e43\n",
      "  Stored in directory: /root/.cache/pip/wheels/a6/90/95/f889ca4aa8b0e0c7f21c8470b6f5d6032f0390a3a141a9a3bd\n",
      "Successfully built pickle5\n",
      "Installing collected packages: pickle5\n",
      "Successfully installed pickle5-0.0.11\n"
     ]
    }
   ],
   "source": [
    "# Loading train and test features \n",
    "!pip3 install pickle5\n",
    "import pickle5 as pickle\n",
    "\n",
    "with open(\"/content/drive/MyDrive/data_train_final.pkl\", \"rb\") as fh:\n",
    "  data_train = pickle.load(fh)\n",
    "with open(\"/content/drive/MyDrive/data_test_final.pkl\", \"rb\") as fh:\n",
    "  data_test = pickle.load(fh)  "
   ]
  },
  {
   "cell_type": "code",
   "execution_count": null,
   "metadata": {
    "id": "5YaKona0UP14"
   },
   "outputs": [],
   "source": [
    "# Dropping the unimportant columns from both test and train \n",
    "data_train.drop(['user_id','min_number_of_orders'],axis=1,inplace=True)\n",
    "data_test.drop(['user_id','min_number_of_orders'],axis=1,inplace=True)\n",
    "\n",
    "# replace Nan values with mean values\n",
    "data_train.fillna(data_train.mean(), inplace=True)\n",
    "data_test.fillna(data_test.mean(), inplace=True)"
   ]
  },
  {
   "cell_type": "code",
   "execution_count": null,
   "metadata": {
    "colab": {
     "base_uri": "https://localhost:8080/",
     "height": 218
    },
    "id": "B8heHxY_zVK9",
    "outputId": "632fb673-54fc-4b02-ea4b-c8961f8a47e9"
   },
   "outputs": [
    {
     "data": {
      "text/html": [
       "<div>\n",
       "<style scoped>\n",
       "    .dataframe tbody tr th:only-of-type {\n",
       "        vertical-align: middle;\n",
       "    }\n",
       "\n",
       "    .dataframe tbody tr th {\n",
       "        vertical-align: top;\n",
       "    }\n",
       "\n",
       "    .dataframe thead th {\n",
       "        text-align: right;\n",
       "    }\n",
       "</style>\n",
       "<table border=\"1\" class=\"dataframe\">\n",
       "  <thead>\n",
       "    <tr style=\"text-align: right;\">\n",
       "      <th></th>\n",
       "      <th>product_id</th>\n",
       "      <th>times_brought</th>\n",
       "      <th>uxp_total_reordered</th>\n",
       "      <th>uxp_first_order_num</th>\n",
       "      <th>uxp_avg_cart_pos</th>\n",
       "      <th>uxp_min_cart_pos</th>\n",
       "      <th>uxp_max_cart_pos</th>\n",
       "      <th>uxp_median_cart_pos</th>\n",
       "      <th>uxp_last_order_num</th>\n",
       "      <th>uxp_avg_dow</th>\n",
       "      <th>uxp_median_dow</th>\n",
       "      <th>uxp_avg_hour_of_the_day</th>\n",
       "      <th>uxp_median_hour_of_the_day</th>\n",
       "      <th>uxp_order_rate</th>\n",
       "      <th>uxp_sum_cart_pos</th>\n",
       "      <th>uxp_min_order_days</th>\n",
       "      <th>uxp_max_order_days</th>\n",
       "      <th>uxp_median_order_days</th>\n",
       "      <th>uxp_reorder_ratio</th>\n",
       "      <th>order_streak</th>\n",
       "      <th>max_number_of_orders</th>\n",
       "      <th>mean_number_of_orders</th>\n",
       "      <th>max_day_of_week</th>\n",
       "      <th>max_order_hour_of_day</th>\n",
       "      <th>sum_days_since_prior_order</th>\n",
       "      <th>mean_days_since_prior_order</th>\n",
       "      <th>reordered_ratio</th>\n",
       "      <th>total_num_orders</th>\n",
       "      <th>user_total_prods</th>\n",
       "      <th>user_unique_prods</th>\n",
       "      <th>user_average_basket</th>\n",
       "      <th>user_order_starts_at</th>\n",
       "      <th>avg_no_prds_each_purchase</th>\n",
       "      <th>median_no_prds_each_purchase</th>\n",
       "      <th>min_no_prds_each_purchase</th>\n",
       "      <th>max_no_prds_each_purchase</th>\n",
       "      <th>times_purchased</th>\n",
       "      <th>prod_tot_reorders</th>\n",
       "      <th>prod_reordered_ratio</th>\n",
       "      <th>avg_cart_position</th>\n",
       "      <th>median_cart_position</th>\n",
       "      <th>sum_cart_position</th>\n",
       "      <th>min_cart_position</th>\n",
       "      <th>max_cart_position</th>\n",
       "      <th>std_cart_position</th>\n",
       "      <th>aisle_reorder_ratio</th>\n",
       "      <th>department_reorder_ratio</th>\n",
       "      <th>order_id</th>\n",
       "      <th>reordered</th>\n",
       "    </tr>\n",
       "  </thead>\n",
       "  <tbody>\n",
       "    <tr>\n",
       "      <th>0</th>\n",
       "      <td>196</td>\n",
       "      <td>10</td>\n",
       "      <td>9</td>\n",
       "      <td>1</td>\n",
       "      <td>1.400391</td>\n",
       "      <td>1</td>\n",
       "      <td>4</td>\n",
       "      <td>1.0</td>\n",
       "      <td>10</td>\n",
       "      <td>2.500000</td>\n",
       "      <td>2.5</td>\n",
       "      <td>10.296875</td>\n",
       "      <td>8.5</td>\n",
       "      <td>1.000000</td>\n",
       "      <td>14</td>\n",
       "      <td>0.0</td>\n",
       "      <td>30.0</td>\n",
       "      <td>19.5</td>\n",
       "      <td>0.899902</td>\n",
       "      <td>5.0</td>\n",
       "      <td>10</td>\n",
       "      <td>5</td>\n",
       "      <td>4</td>\n",
       "      <td>4</td>\n",
       "      <td>1150.0</td>\n",
       "      <td>19</td>\n",
       "      <td>0.694824</td>\n",
       "      <td>343</td>\n",
       "      <td>59</td>\n",
       "      <td>18</td>\n",
       "      <td>0.171997</td>\n",
       "      <td>431534</td>\n",
       "      <td>5.898438</td>\n",
       "      <td>5.5</td>\n",
       "      <td>4</td>\n",
       "      <td>9</td>\n",
       "      <td>35791</td>\n",
       "      <td>27791</td>\n",
       "      <td>0.776367</td>\n",
       "      <td>3.722656</td>\n",
       "      <td>2.0</td>\n",
       "      <td>133206</td>\n",
       "      <td>1</td>\n",
       "      <td>60</td>\n",
       "      <td>4.109375</td>\n",
       "      <td>0.638672</td>\n",
       "      <td>0.653320</td>\n",
       "      <td>1187899</td>\n",
       "      <td>1.0</td>\n",
       "    </tr>\n",
       "    <tr>\n",
       "      <th>1</th>\n",
       "      <td>10258</td>\n",
       "      <td>9</td>\n",
       "      <td>8</td>\n",
       "      <td>2</td>\n",
       "      <td>3.333984</td>\n",
       "      <td>2</td>\n",
       "      <td>6</td>\n",
       "      <td>3.0</td>\n",
       "      <td>10</td>\n",
       "      <td>2.554688</td>\n",
       "      <td>3.0</td>\n",
       "      <td>10.554688</td>\n",
       "      <td>9.0</td>\n",
       "      <td>0.899902</td>\n",
       "      <td>30</td>\n",
       "      <td>0.0</td>\n",
       "      <td>30.0</td>\n",
       "      <td>20.0</td>\n",
       "      <td>0.888672</td>\n",
       "      <td>5.0</td>\n",
       "      <td>10</td>\n",
       "      <td>5</td>\n",
       "      <td>4</td>\n",
       "      <td>4</td>\n",
       "      <td>1150.0</td>\n",
       "      <td>19</td>\n",
       "      <td>0.694824</td>\n",
       "      <td>343</td>\n",
       "      <td>59</td>\n",
       "      <td>18</td>\n",
       "      <td>0.171997</td>\n",
       "      <td>431534</td>\n",
       "      <td>5.898438</td>\n",
       "      <td>5.5</td>\n",
       "      <td>4</td>\n",
       "      <td>9</td>\n",
       "      <td>1946</td>\n",
       "      <td>1389</td>\n",
       "      <td>0.713867</td>\n",
       "      <td>4.277344</td>\n",
       "      <td>3.0</td>\n",
       "      <td>8324</td>\n",
       "      <td>1</td>\n",
       "      <td>29</td>\n",
       "      <td>3.568359</td>\n",
       "      <td>0.519043</td>\n",
       "      <td>0.574219</td>\n",
       "      <td>1187899</td>\n",
       "      <td>1.0</td>\n",
       "    </tr>\n",
       "    <tr>\n",
       "      <th>2</th>\n",
       "      <td>10326</td>\n",
       "      <td>1</td>\n",
       "      <td>0</td>\n",
       "      <td>5</td>\n",
       "      <td>5.000000</td>\n",
       "      <td>5</td>\n",
       "      <td>5</td>\n",
       "      <td>5.0</td>\n",
       "      <td>5</td>\n",
       "      <td>4.000000</td>\n",
       "      <td>4.0</td>\n",
       "      <td>15.000000</td>\n",
       "      <td>15.0</td>\n",
       "      <td>0.099976</td>\n",
       "      <td>5</td>\n",
       "      <td>28.0</td>\n",
       "      <td>28.0</td>\n",
       "      <td>28.0</td>\n",
       "      <td>0.000000</td>\n",
       "      <td>NaN</td>\n",
       "      <td>10</td>\n",
       "      <td>5</td>\n",
       "      <td>4</td>\n",
       "      <td>4</td>\n",
       "      <td>1150.0</td>\n",
       "      <td>19</td>\n",
       "      <td>0.694824</td>\n",
       "      <td>343</td>\n",
       "      <td>59</td>\n",
       "      <td>18</td>\n",
       "      <td>0.171997</td>\n",
       "      <td>431534</td>\n",
       "      <td>5.898438</td>\n",
       "      <td>5.5</td>\n",
       "      <td>4</td>\n",
       "      <td>9</td>\n",
       "      <td>5526</td>\n",
       "      <td>3603</td>\n",
       "      <td>0.651855</td>\n",
       "      <td>4.191406</td>\n",
       "      <td>3.0</td>\n",
       "      <td>23160</td>\n",
       "      <td>1</td>\n",
       "      <td>37</td>\n",
       "      <td>3.611328</td>\n",
       "      <td>0.718262</td>\n",
       "      <td>0.649902</td>\n",
       "      <td>1187899</td>\n",
       "      <td>0.0</td>\n",
       "    </tr>\n",
       "    <tr>\n",
       "      <th>3</th>\n",
       "      <td>12427</td>\n",
       "      <td>10</td>\n",
       "      <td>9</td>\n",
       "      <td>1</td>\n",
       "      <td>3.300781</td>\n",
       "      <td>1</td>\n",
       "      <td>9</td>\n",
       "      <td>2.5</td>\n",
       "      <td>10</td>\n",
       "      <td>2.500000</td>\n",
       "      <td>2.5</td>\n",
       "      <td>10.296875</td>\n",
       "      <td>8.5</td>\n",
       "      <td>1.000000</td>\n",
       "      <td>33</td>\n",
       "      <td>0.0</td>\n",
       "      <td>30.0</td>\n",
       "      <td>19.5</td>\n",
       "      <td>0.899902</td>\n",
       "      <td>5.0</td>\n",
       "      <td>10</td>\n",
       "      <td>5</td>\n",
       "      <td>4</td>\n",
       "      <td>4</td>\n",
       "      <td>1150.0</td>\n",
       "      <td>19</td>\n",
       "      <td>0.694824</td>\n",
       "      <td>343</td>\n",
       "      <td>59</td>\n",
       "      <td>18</td>\n",
       "      <td>0.171997</td>\n",
       "      <td>431534</td>\n",
       "      <td>5.898438</td>\n",
       "      <td>5.5</td>\n",
       "      <td>4</td>\n",
       "      <td>9</td>\n",
       "      <td>6476</td>\n",
       "      <td>4797</td>\n",
       "      <td>0.740723</td>\n",
       "      <td>4.761719</td>\n",
       "      <td>3.0</td>\n",
       "      <td>30826</td>\n",
       "      <td>1</td>\n",
       "      <td>61</td>\n",
       "      <td>4.781250</td>\n",
       "      <td>0.591797</td>\n",
       "      <td>0.574219</td>\n",
       "      <td>1187899</td>\n",
       "      <td>0.0</td>\n",
       "    </tr>\n",
       "    <tr>\n",
       "      <th>4</th>\n",
       "      <td>13032</td>\n",
       "      <td>3</td>\n",
       "      <td>2</td>\n",
       "      <td>2</td>\n",
       "      <td>6.332031</td>\n",
       "      <td>5</td>\n",
       "      <td>8</td>\n",
       "      <td>6.0</td>\n",
       "      <td>10</td>\n",
       "      <td>2.666016</td>\n",
       "      <td>3.0</td>\n",
       "      <td>8.000000</td>\n",
       "      <td>8.0</td>\n",
       "      <td>0.300049</td>\n",
       "      <td>19</td>\n",
       "      <td>15.0</td>\n",
       "      <td>30.0</td>\n",
       "      <td>20.0</td>\n",
       "      <td>0.666504</td>\n",
       "      <td>1.0</td>\n",
       "      <td>10</td>\n",
       "      <td>5</td>\n",
       "      <td>4</td>\n",
       "      <td>4</td>\n",
       "      <td>1150.0</td>\n",
       "      <td>19</td>\n",
       "      <td>0.694824</td>\n",
       "      <td>343</td>\n",
       "      <td>59</td>\n",
       "      <td>18</td>\n",
       "      <td>0.171997</td>\n",
       "      <td>431534</td>\n",
       "      <td>5.898438</td>\n",
       "      <td>5.5</td>\n",
       "      <td>4</td>\n",
       "      <td>9</td>\n",
       "      <td>3751</td>\n",
       "      <td>2465</td>\n",
       "      <td>0.657227</td>\n",
       "      <td>5.621094</td>\n",
       "      <td>4.0</td>\n",
       "      <td>21091</td>\n",
       "      <td>1</td>\n",
       "      <td>66</td>\n",
       "      <td>5.343750</td>\n",
       "      <td>0.571777</td>\n",
       "      <td>0.561035</td>\n",
       "      <td>1187899</td>\n",
       "      <td>1.0</td>\n",
       "    </tr>\n",
       "  </tbody>\n",
       "</table>\n",
       "</div>"
      ],
      "text/plain": [
       "   product_id  times_brought  ...  order_id  reordered\n",
       "0         196             10  ...   1187899        1.0\n",
       "1       10258              9  ...   1187899        1.0\n",
       "2       10326              1  ...   1187899        0.0\n",
       "3       12427             10  ...   1187899        0.0\n",
       "4       13032              3  ...   1187899        1.0\n",
       "\n",
       "[5 rows x 49 columns]"
      ]
     },
     "execution_count": 6,
     "metadata": {
      "tags": []
     },
     "output_type": "execute_result"
    }
   ],
   "source": [
    "data_train.head()"
   ]
  },
  {
   "cell_type": "markdown",
   "metadata": {
    "id": "exA1WQtM9Kfo"
   },
   "source": [
    "<h3>Function 1 - \n",
    "Pipeline -> Raw Input -> Output Predictions</h3>"
   ]
  },
  {
   "cell_type": "code",
   "execution_count": null,
   "metadata": {
    "id": "wZZ_5K_rlgTS"
   },
   "outputs": [],
   "source": [
    "import pdb\n",
    "def fun1(order_id,dataset_type):\n",
    "  \"\"\"\n",
    "  This function accepts an order id and the type of dataset the order belongs to.\n",
    "  It returns the list of product ids that the user would purchase again.\n",
    "  \"\"\"\n",
    "  # Load trained catboost model\n",
    "  model = pickle.load(open(\"/content/drive/MyDrive/Colab Notebooks/catboost_model\", 'rb'))\n",
    "  data = pd.DataFrame()\n",
    "\n",
    "  if dataset_type == 'train':\n",
    "    order_ids = data_train['order_id'].unique()\n",
    "    if order_id not in order_ids:\n",
    "      print(\"Order id is not found in train data\")\n",
    "      return\n",
    "    else:\n",
    "      # get all the rows corresponding to the passed order id   \n",
    "      data = data_train[data_train['order_id'] == order_id]\n",
    "      \n",
    "  elif dataset_type == 'test':\n",
    "    order_ids = data_test['order_id'].unique()\n",
    "    if order_id not in order_ids:\n",
    "      print(\"Order id is not found in test data\")\n",
    "      return\n",
    "    else:\n",
    "      # get all the rows corresponding to the passed order id   \n",
    "      data = data_test[data_test['order_id'] == order_id]\n",
    "\n",
    "  # Get the preditions for the above filtered data\n",
    "  # While getting the predictions remove the product id and order id\n",
    "  predictions = (model.predict_proba(data.drop(['product_id','order_id','reordered'],axis=1))[:, 1] >= 0.21).astype('int')\n",
    "\n",
    "  # add the predictions as a new column to the above filtered data\n",
    "  data['predictions'] = predictions\n",
    "\n",
    "  # filter out all the products whereever predictions = 1(meaning the product has to be reordered)\n",
    "  products = data[data['predictions'] == 1]['product_id']\n",
    "\n",
    "  return products.values.tolist() \n"
   ]
  },
  {
   "cell_type": "code",
   "execution_count": null,
   "metadata": {
    "colab": {
     "base_uri": "https://localhost:8080/"
    },
    "id": "DCBijyUzCBSC",
    "outputId": "9684a08c-12dd-4094-9fc1-2e40d07ddfd4"
   },
   "outputs": [
    {
     "name": "stdout",
     "output_type": "stream",
     "text": [
      "Enter the order id: 111\n",
      "Enter the dataset type to which the order belongs to: train\n",
      "Order id is not found in train data\n",
      "Products to be reordered are None\n",
      "Time taken to execute :  0:00:00.143608\n"
     ]
    }
   ],
   "source": [
    "order_id = int(input('Enter the order id: '))\n",
    "dataset_type = str(input('Enter the dataset type to which the order belongs to: '))\n",
    "start = datetime.now()\n",
    "prod_list = fun1(order_id,dataset_type)\n",
    "print('Products to be reordered are',prod_list)\n",
    "print('Time taken to execute : ',datetime.now()-start)"
   ]
  },
  {
   "cell_type": "code",
   "execution_count": null,
   "metadata": {
    "colab": {
     "base_uri": "https://localhost:8080/"
    },
    "id": "DZnY7KOtMpfW",
    "outputId": "60baf65e-86bd-4b77-89dc-47acd462c8e9"
   },
   "outputs": [
    {
     "name": "stdout",
     "output_type": "stream",
     "text": [
      "Enter the order id: 1716008\n",
      "Enter the dataset type to which the order belongs to: train\n",
      "Products to be reordered are [3896, 21137, 22035, 27845, 38739, 39160, 43352]\n",
      "Time taken to execute :  0:00:01.496003\n"
     ]
    }
   ],
   "source": [
    "order_id = int(input('Enter the order id: '))\n",
    "dataset_type = str(input('Enter the dataset type to which the order belongs to: '))\n",
    "start = datetime.now()\n",
    "prod_list = fun1(order_id,dataset_type)\n",
    "print('Products to be reordered are',prod_list)\n",
    "print('Time taken to execute : ',datetime.now()-start)"
   ]
  },
  {
   "cell_type": "code",
   "execution_count": null,
   "metadata": {
    "colab": {
     "base_uri": "https://localhost:8080/"
    },
    "id": "_w9a1MEuM3VY",
    "outputId": "2295119a-ecdb-4884-c873-e15c067ac6f2"
   },
   "outputs": [
    {
     "name": "stdout",
     "output_type": "stream",
     "text": [
      "Enter the order id: 2821651\n",
      "Enter the dataset type to which the order belongs to: test\n",
      "Products to be reordered are [3397, 11068, 13176, 20899, 20995, 22035, 25133, 27344, 27845, 27966, 33716, 33754, 33787, 36011, 39180, 44632, 47209, 48086]\n",
      "Time taken to execute :  0:00:00.131055\n"
     ]
    }
   ],
   "source": [
    "order_id = int(input('Enter the order id: '))\n",
    "dataset_type = str(input('Enter the dataset type to which the order belongs to: '))\n",
    "start = datetime.now()\n",
    "prod_list = fun1(order_id,dataset_type)\n",
    "print('Products to be reordered are',prod_list)\n",
    "print('Time taken to execute : ',datetime.now()-start)"
   ]
  },
  {
   "cell_type": "markdown",
   "metadata": {
    "id": "ceOAYksP92yS"
   },
   "source": [
    "<h3>Function 2 - Pipeline -> (X,y) -> Metric"
   ]
  },
  {
   "cell_type": "code",
   "execution_count": null,
   "metadata": {
    "id": "cG-W5UgRooob"
   },
   "outputs": [],
   "source": [
    "def fun2(order_id):\n",
    "  \"\"\"\n",
    "  This function makes use of trained data only. It takes one order id \n",
    "  as input and calculates the F1 score for the passed order id.\n",
    "  \"\"\"\n",
    "  # Load trained catboost model\n",
    "  model = pickle.load(open(\"/content/drive/MyDrive/Colab Notebooks/catboost_model\", 'rb'))\n",
    "  data = pd.DataFrame()\n",
    "\n",
    "  order_ids = data_train['order_id'].unique()\n",
    "  if order_id not in order_ids:\n",
    "    print(\"Order id is not found in train data\")\n",
    "    return\n",
    "  else:\n",
    "    # get all the rows corresponding to the passed order id   \n",
    "    data = data_train[data_train['order_id'] == order_id]\n",
    "      \n",
    "  # Get the preditions for the above filtered data\n",
    "  # While getting the predictions remove the product id and order id\n",
    "  predictions = (model.predict_proba(data.drop(['product_id','order_id','reordered'],axis=1))[:, 1] >= 0.21).astype('int')\n",
    "\n",
    "  # add the predictions as a new column to the above filtered data\n",
    "  data['predictions'] = predictions\n",
    "\n",
    "  data = data[['reordered','predictions']]\n",
    "  print(\"The F1_score for order id - {} is {}\".format(order_id,\n",
    "                                        f1_score(data['reordered'],data['predictions'])))\n"
   ]
  },
  {
   "cell_type": "code",
   "execution_count": null,
   "metadata": {
    "colab": {
     "base_uri": "https://localhost:8080/"
    },
    "id": "PcJUWvLyqvCU",
    "outputId": "c8642ac2-dd4e-4429-d161-51451f58f4cd"
   },
   "outputs": [
    {
     "name": "stdout",
     "output_type": "stream",
     "text": [
      "Enter the order id: 1187899\n",
      "The F1_score for order id - 1187899 is 0.8000000000000002\n",
      "Time taken to execute :  0:00:00.173351\n"
     ]
    }
   ],
   "source": [
    "order_id = int(input('Enter the order id: '))\n",
    "start = datetime.now()\n",
    "prod_list = fun2(order_id)\n",
    "print('Time taken to execute : ',datetime.now()-start)"
   ]
  },
  {
   "cell_type": "code",
   "execution_count": null,
   "metadata": {
    "colab": {
     "base_uri": "https://localhost:8080/"
    },
    "id": "e1XFhkfR5x7q",
    "outputId": "6e50f064-afdc-48c3-8cb3-86a93fd2b985"
   },
   "outputs": [
    {
     "name": "stdout",
     "output_type": "stream",
     "text": [
      "Enter the order id: 2821651\n",
      "Order id is not found in train data\n",
      "Time taken to execute :  0:00:00.155722\n"
     ]
    }
   ],
   "source": [
    "order_id = int(input('Enter the order id: '))\n",
    "start = datetime.now()\n",
    "prod_list = fun2(order_id)\n",
    "print('Time taken to execute : ',datetime.now()-start)"
   ]
  },
  {
   "cell_type": "code",
   "execution_count": null,
   "metadata": {
    "colab": {
     "base_uri": "https://localhost:8080/"
    },
    "id": "mBzaokSq6KfA",
    "outputId": "4382acc0-3de9-45f0-b682-46aebe4d215e"
   },
   "outputs": [
    {
     "name": "stdout",
     "output_type": "stream",
     "text": [
      "Enter the order id: 1716008\n",
      "The F1_score for order id - 1716008 is 0.4615384615384615\n",
      "Time taken to execute :  0:00:00.175228\n"
     ]
    }
   ],
   "source": [
    "order_id = int(input('Enter the order id: '))\n",
    "start = datetime.now()\n",
    "prod_list = fun2(order_id)\n",
    "print('Time taken to execute : ',datetime.now()-start)"
   ]
  },
  {
   "cell_type": "code",
   "execution_count": null,
   "metadata": {
    "colab": {
     "base_uri": "https://localhost:8080/"
    },
    "id": "OR9yTVVV7vOi",
    "outputId": "f8021f86-5c67-40be-d224-600c0b45493d"
   },
   "outputs": [
    {
     "name": "stdout",
     "output_type": "stream",
     "text": [
      "Enter the order id: 1\n",
      "The F1_score for order id - 1 is 0.5714285714285715\n",
      "Time taken to execute :  0:00:00.179621\n"
     ]
    }
   ],
   "source": [
    "order_id = int(input('Enter the order id: '))\n",
    "start = datetime.now()\n",
    "prod_list = fun2(order_id)\n",
    "print('Time taken to execute : ',datetime.now()-start)"
   ]
  }
 ],
 "metadata": {
  "accelerator": "GPU",
  "colab": {
   "collapsed_sections": [],
   "name": "final_notebook.ipynb",
   "provenance": []
  },
  "kernelspec": {
   "display_name": "Python 3",
   "language": "python",
   "name": "python3"
  },
  "language_info": {
   "codemirror_mode": {
    "name": "ipython",
    "version": 3
   },
   "file_extension": ".py",
   "mimetype": "text/x-python",
   "name": "python",
   "nbconvert_exporter": "python",
   "pygments_lexer": "ipython3",
   "version": "3.8.5"
  }
 },
 "nbformat": 4,
 "nbformat_minor": 1
}
